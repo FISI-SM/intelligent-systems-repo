{
 "cells": [
  {
   "cell_type": "markdown",
   "id": "7acc8c59",
   "metadata": {},
   "source": [
    "# Entrenamiento de un Perceptrón para la Función AND"
   ]
  },
  {
   "cell_type": "markdown",
   "id": "3286c948",
   "metadata": {},
   "source": [
    "\n",
    "Este notebook muestra paso a paso cómo entrenar un perceptrón para aprender la función lógica **AND** utilizando aprendizaje supervisado.\n",
    "\n",
    "- Usamos una función de activación tipo `heaviside`.\n",
    "- La regla de actualización sigue el algoritmo clásico del perceptrón.\n",
    "- Se realiza el entrenamiento hasta que se clasifiquen correctamente todas las entradas.\n"
   ]
  },
  {
   "cell_type": "code",
   "execution_count": null,
   "id": "8dc222e0",
   "metadata": {},
   "outputs": [],
   "source": [
    "\n",
    "from itertools import product\n",
    "import pandas as pd\n",
    "\n",
    "# Datos de entrenamiento para la función AND\n",
    "data = [(x1, x2, int(x1 and x2)) for x1, x2 in product([0, 1], repeat=2)]\n",
    "eta = 0.1  # tasa de aprendizaje\n"
   ]
  },
  {
   "cell_type": "markdown",
   "id": "8b52d544",
   "metadata": {},
   "source": [
    "## Entrenamiento desde pesos aleatorios"
   ]
  },
  {
   "cell_type": "code",
   "execution_count": null,
   "id": "79785cc5",
   "metadata": {},
   "outputs": [],
   "source": [
    "\n",
    "# Pesos iniciales aleatorios\n",
    "w = [0.2, -0.3, 0.1]  # [bias, w1, w2]\n",
    "rows = []\n",
    "epoch = 1\n",
    "max_epochs = 50\n",
    "\n",
    "while epoch <= max_epochs:\n",
    "    all_correct = True\n",
    "    for x1, x2, y_real in data:\n",
    "        z = w[0] + w[1]*x1 + w[2]*x2\n",
    "        y_pred = 1 if z >= 0 else 0\n",
    "        error = y_real - y_pred\n",
    "        if error != 0:\n",
    "            all_correct = False\n",
    "        w[0] += eta * error * 1\n",
    "        w[1] += eta * error * x1\n",
    "        w[2] += eta * error * x2\n",
    "        rows.append({\n",
    "            \"Época\": epoch,\n",
    "            \"x1\": x1,\n",
    "            \"x2\": x2,\n",
    "            \"y_real\": y_real,\n",
    "            \"y_pred\": y_pred,\n",
    "            \"Error\": error,\n",
    "            \"w0\": round(w[0], 2),\n",
    "            \"w1\": round(w[1], 2),\n",
    "            \"w2\": round(w[2], 2)\n",
    "        })\n",
    "    if all_correct:\n",
    "        break\n",
    "    epoch += 1\n",
    "\n",
    "df = pd.DataFrame(rows)\n",
    "df.tail()\n"
   ]
  },
  {
   "cell_type": "markdown",
   "id": "9793f270",
   "metadata": {},
   "source": [
    "### Ecuación final del perceptrón aprendida"
   ]
  },
  {
   "cell_type": "code",
   "execution_count": null,
   "id": "106fe731",
   "metadata": {},
   "outputs": [],
   "source": [
    "\n",
    "w  # pesos finales aprendidos\n"
   ]
  },
  {
   "cell_type": "markdown",
   "id": "bb9782e5",
   "metadata": {},
   "source": [
    "## Entrenamiento con pesos iniciales (1,1,1)"
   ]
  },
  {
   "cell_type": "code",
   "execution_count": null,
   "id": "292dbbf2",
   "metadata": {},
   "outputs": [],
   "source": [
    "\n",
    "# Reentrenamiento con pesos [1, 1, 1]\n",
    "w = [1.0, 1.0, 1.0]\n",
    "rows_fixed = []\n",
    "epoch = 1\n",
    "\n",
    "while epoch <= max_epochs:\n",
    "    all_correct = True\n",
    "    for x1, x2, y_real in data:\n",
    "        z = w[0] + w[1]*x1 + w[2]*x2\n",
    "        y_pred = 1 if z >= 0 else 0\n",
    "        error = y_real - y_pred\n",
    "        if error != 0:\n",
    "            all_correct = False\n",
    "        w[0] += eta * error * 1\n",
    "        w[1] += eta * error * x1\n",
    "        w[2] += eta * error * x2\n",
    "        rows_fixed.append({\n",
    "            \"Época\": epoch,\n",
    "            \"x1\": x1,\n",
    "            \"x2\": x2,\n",
    "            \"y_real\": y_real,\n",
    "            \"y_pred\": y_pred,\n",
    "            \"Error\": error,\n",
    "            \"w0\": round(w[0], 2),\n",
    "            \"w1\": round(w[1], 2),\n",
    "            \"w2\": round(w[2], 2)\n",
    "        })\n",
    "    if all_correct:\n",
    "        break\n",
    "    epoch += 1\n",
    "\n",
    "df_fixed = pd.DataFrame(rows_fixed)\n",
    "df_fixed.tail()\n"
   ]
  }
 ],
 "metadata": {},
 "nbformat": 4,
 "nbformat_minor": 5
}
